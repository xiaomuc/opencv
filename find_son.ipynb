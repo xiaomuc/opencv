{
 "cells": [
  {
   "cell_type": "markdown",
   "metadata": {},
   "source": [
    "# Find My Son"
   ]
  },
  {
   "cell_type": "code",
   "execution_count": 58,
   "metadata": {},
   "outputs": [
    {
     "data": {
      "text/plain": [
       "'02:01.003'"
      ]
     },
     "execution_count": 58,
     "metadata": {},
     "output_type": "execute_result"
    }
   ],
   "source": [
    "import numpy as np\n",
    "import cv2\n",
    "import os\n",
    "\n",
    "ROOT_DIR='./'\n",
    "MOV_FULL='gassou_full.mp4'\n",
    "MOV_SHORT = 'gassou_15sec.mp4'\n",
    "IMG_REPORT = 'img_report.jpg'\n",
    "IMG_INTEVIEW = 'img_interviewMovie.jpg'\n",
    "\n",
    "# movie file\n",
    "#movie_file = 'videoplayback.mp4'\n",
    "#movie_file = \"C:\\\\Users\\\\xkogi\\\\Downloads\\\\gassou_full.mp4\"\n",
    "cascade_path=\"C:\\\\Users\\\\xkogi\\\\.conda\\\\envs\\\\myenv\\\\Lib\\\\site-packages\\\\cv2\\\\data\\\\\"\n",
    "\n",
    "#face_path='haarcascade_frontalface_alt_tree.xml'\n",
    "face_path='haarcascade_frontalface_alt.xml'\n",
    "#face_path='haarcascade_frontalface_alt_tree.xml'\n",
    "#face_path='haarcascade_frontalface_alt2.xml'\n",
    "#face_path='haarcascade_frontalface_default.xml'\n",
    "#face_path='haarcascade_profileface.xml'\n",
    "\n",
    "scale_factor=1.1 #default = 1.1\n",
    "min_size = (5,5)\n",
    "min_neighbour=3 #default=3\n",
    "\n",
    "def format_time(sec):\n",
    "    msec = (int)(sec * 1000.)\n",
    "    s, ms = divmod(msec, 1000)\n",
    "    m, s =divmod(s,60)\n",
    "    return '{:02d}:{:02d}.{:03d}'.format(m,s,ms)\n",
    "\n",
    "format_time(121.003)"
   ]
  },
  {
   "cell_type": "code",
   "execution_count": 59,
   "metadata": {},
   "outputs": [
    {
     "name": "stdout",
     "output_type": "stream",
     "text": [
      "fps 23.976023976023978\n",
      "interval 0.04170833333333333\n"
     ]
    }
   ],
   "source": [
    "cap = cv2.VideoCapture(os.path.join(ROOT_DIR,MOV_FULL))\n",
    "width = int(cap.get(cv2.CAP_PROP_FRAME_WIDTH))\n",
    "height = int(cap.get(cv2.CAP_PROP_FRAME_HEIGHT))\n",
    "fps = cap.get(cv2.CAP_PROP_FPS)\n",
    "\n",
    "face_cascade_path=os.path.join(cascade_path,face_path)\n",
    "face_cascade=cv2.CascadeClassifier(face_cascade_path)\n",
    "\n",
    "#cap = cv2.VideoCapture(0)\n",
    "fps = cap.get(cv2.CAP_PROP_FPS)\n",
    "print('fps',fps)\n",
    "interval =1.0/fps\n",
    "time_wait = (int)(interval * 1000.0)\n",
    "print('interval',interval)\n",
    "ret, frame = cap.read()\n",
    "FLAG_FACE = True\n",
    "time_stamp=0.0\n",
    "font = cv2.FONT_HERSHEY_PLAIN\n",
    "while(1):\n",
    "    ret, frame = cap.read()\n",
    "    if ret == True:\n",
    "        if FLAG_FACE == True:\n",
    "            gray = cv2.cvtColor(frame, cv2.COLOR_BGR2GRAY)\n",
    "            faces = face_cascade.detectMultiScale(gray, scaleFactor=scale_factor, minNeighbors=min_neighbour, minSize=min_size) # , 1.3, 5)\n",
    "            #img = np.zeros((width,height,3), np.uint8)\n",
    "            for(x, y, w, h) in faces:\n",
    "                frame = cv2.rectangle(frame, (x,y), (x+w,y+h), (255,0,0), 2)\n",
    "                #img[x:x+w,y:y+h]=frame[x:x+h,y:y+h]\n",
    "        time_stamp = time_stamp + interval\n",
    "        cv2.putText(frame,format_time(time_stamp),(10,50),font,4,(255,255,255),2,cv2.LINE_AA)\n",
    "        cv2.imshow('frame',frame)\n",
    "        k = cv2.waitKey(time_wait) & 0xff\n",
    "        if k == 27:\n",
    "            break;\n",
    "    else:\n",
    "        break\n",
    "\n",
    "cv2.destroyAllWindows()\n",
    "cap.release()"
   ]
  },
  {
   "cell_type": "code",
   "execution_count": 49,
   "metadata": {},
   "outputs": [],
   "source": [
    "cap = cv2.VideoCapture(os.path.join(ROOT_DIR,MOV_FULL))\n",
    "width = int(cap.get(cv2.CAP_PROP_FRAME_WIDTH))\n",
    "height = int(cap.get(cv2.CAP_PROP_FRAME_HEIGHT))\n",
    "fps = cap.get(cv2.CAP_PROP_FPS)\n",
    "\n",
    "interval =1.0/fps\n",
    "time_wait = (int)(interval * 1000.0)\n",
    "time_stamp=0.0\n",
    "font = cv2.FONT_HERSHEY_PLAIN\n",
    "\n",
    "# VideoWriter を作成する。\n",
    "fourcc = cv2.VideoWriter_fourcc(*'DIVX')\n",
    "writer = cv2.VideoWriter('output.avi', fourcc, fps, (width, height))\n",
    "\n",
    "while(cap.isOpened()):\n",
    "    ret, frame = cap.read()\n",
    "    if ret:\n",
    "        gray = cv2.cvtColor(frame, cv2.COLOR_BGR2GRAY)\n",
    "        faces = face_cascade.detectMultiScale(gray, scaleFactor=scale_factor, minNeighbors=min_neighbour, minSize=min_size) # , 1.3, 5)\n",
    "        for(x, y, w, h) in faces:\n",
    "            frame = cv2.rectangle(frame, (x,y), (x+w,y+h), (255,0,0), 2)\n",
    "        time_stamp = time_stamp + interval\n",
    "        cv2.putText(frame,format_time(time_stamp),(10,50),font,4,(255,255,255),2,cv2.LINE_AA)\n",
    "        writer.write(frame)\n",
    "    else:\n",
    "        break\n",
    "        \n",
    "cap.release()\n",
    "writer.release()"
   ]
  },
  {
   "cell_type": "code",
   "execution_count": null,
   "metadata": {},
   "outputs": [],
   "source": []
  }
 ],
 "metadata": {
  "kernelspec": {
   "display_name": "Python 3",
   "language": "python",
   "name": "python3"
  },
  "language_info": {
   "codemirror_mode": {
    "name": "ipython",
    "version": 3
   },
   "file_extension": ".py",
   "mimetype": "text/x-python",
   "name": "python",
   "nbconvert_exporter": "python",
   "pygments_lexer": "ipython3",
   "version": "3.7.3"
  }
 },
 "nbformat": 4,
 "nbformat_minor": 2
}
