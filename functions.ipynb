{
 "cells": [
  {
   "cell_type": "code",
   "execution_count": 2,
   "metadata": {},
   "outputs": [],
   "source": [
    "def getInterval(fps):\n",
    "    interval =1.0/fps\n",
    "    time_wait = (int)(interval * 1000.0)\n",
    "    print('interval: ',interval,'time_wait: ',time_wait)\n",
    "    return interval,time_wait\n",
    "\n",
    "# format time(second) as HH:MM:ss.mmm\n",
    "def format_time(sec):\n",
    "    msec = (int)(sec * 1000.)\n",
    "    s, ms = divmod(msec, 1000)\n",
    "    m, s =divmod(s,60)\n",
    "    return '{:02d}:{:02d}.{:03d}'.format(m,s,ms)\n",
    "\n",
    "def format_time_forfile(sec):\n",
    "    msec = (int)(sec * 1000.)\n",
    "    s, ms = divmod(msec, 1000)\n",
    "    m, s =divmod(s,60)\n",
    "    return '{:02d}m{:02d}s{:03d}ms'.format(m,s,ms)\n"
   ]
  },
  {
   "cell_type": "code",
   "execution_count": null,
   "metadata": {},
   "outputs": [],
   "source": []
  },
  {
   "cell_type": "code",
   "execution_count": null,
   "metadata": {},
   "outputs": [],
   "source": []
  }
 ],
 "metadata": {
  "kernelspec": {
   "display_name": "Python 3",
   "language": "python",
   "name": "python3"
  },
  "language_info": {
   "codemirror_mode": {
    "name": "ipython",
    "version": 3
   },
   "file_extension": ".py",
   "mimetype": "text/x-python",
   "name": "python",
   "nbconvert_exporter": "python",
   "pygments_lexer": "ipython3",
   "version": "3.7.3"
  }
 },
 "nbformat": 4,
 "nbformat_minor": 2
}
